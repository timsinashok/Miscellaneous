{
  "cells": [
    {
      "cell_type": "markdown",
      "source": [],
      "metadata": {
        "id": "r0FqsM7BBmd1"
      }
    },
    {
      "cell_type": "code",
      "execution_count": null,
      "metadata": {
        "colab": {
          "base_uri": "https://localhost:8080/"
        },
        "id": "Q0xwu4Xo8u-f",
        "outputId": "60546c7e-6a23-4849-8ced-d361c5cd16ef"
      },
      "outputs": [
        {
          "name": "stdout",
          "output_type": "stream",
          "text": [
            "Requirement already satisfied: tqdm in /usr/local/lib/python3.7/dist-packages (4.41.1)\n"
          ]
        }
      ],
      "source": [
        "!pip install tqdm\n",
        "from tqdm import tqdm"
      ]
    },
    {
      "cell_type": "code",
      "execution_count": null,
      "metadata": {
        "colab": {
          "base_uri": "https://localhost:8080/"
        },
        "id": "J7pCyBDV5bn7",
        "outputId": "472b07cd-4b5d-47a1-a7e2-39b2f4cb455f"
      },
      "outputs": [
        {
          "name": "stdout",
          "output_type": "stream",
          "text": [
            "Requirement already satisfied: chaipy in /usr/local/lib/python3.7/dist-packages (0.3.3)\n",
            "Requirement already satisfied: beautifulsoup4 in /usr/local/lib/python3.7/dist-packages (4.6.3)\n",
            "Requirement already satisfied: segno>=1.3.3 in /usr/local/lib/python3.7/dist-packages (from chaipy) (1.3.3)\n",
            "Requirement already satisfied: halo>=0.0.31 in /usr/local/lib/python3.7/dist-packages (from chaipy) (0.0.31)\n",
            "Requirement already satisfied: requests>=2.23.0 in /usr/local/lib/python3.7/dist-packages (from chaipy) (2.23.0)\n",
            "Requirement already satisfied: typing-extensions>=3.7.4.3 in /usr/local/lib/python3.7/dist-packages (from chaipy) (3.7.4.3)\n",
            "Requirement already satisfied: colorama>=0.4.4 in /usr/local/lib/python3.7/dist-packages (from chaipy) (0.4.4)\n",
            "Requirement already satisfied: termcolor>=1.1.0 in /usr/local/lib/python3.7/dist-packages (from halo>=0.0.31->chaipy) (1.1.0)\n",
            "Requirement already satisfied: spinners>=0.0.24 in /usr/local/lib/python3.7/dist-packages (from halo>=0.0.31->chaipy) (0.0.24)\n",
            "Requirement already satisfied: log-symbols>=0.0.14 in /usr/local/lib/python3.7/dist-packages (from halo>=0.0.31->chaipy) (0.0.14)\n",
            "Requirement already satisfied: six>=1.12.0 in /usr/local/lib/python3.7/dist-packages (from halo>=0.0.31->chaipy) (1.15.0)\n",
            "Requirement already satisfied: certifi>=2017.4.17 in /usr/local/lib/python3.7/dist-packages (from requests>=2.23.0->chaipy) (2021.5.30)\n",
            "Requirement already satisfied: idna<3,>=2.5 in /usr/local/lib/python3.7/dist-packages (from requests>=2.23.0->chaipy) (2.10)\n",
            "Requirement already satisfied: chardet<4,>=3.0.2 in /usr/local/lib/python3.7/dist-packages (from requests>=2.23.0->chaipy) (3.0.4)\n",
            "Requirement already satisfied: urllib3!=1.25.0,!=1.25.1,<1.26,>=1.21.1 in /usr/local/lib/python3.7/dist-packages (from requests>=2.23.0->chaipy) (1.24.3)\n",
            "Set up nest_asyncio for TRoom.\n",
            "Set up write_and_run magic.\n"
          ]
        }
      ],
      "source": [
        "!pip install chaipy beautifulsoup4\n",
        "from chai_py import ChaiBot, Update, TRoom\n",
        "import datetime\n",
        "\n",
        "from bs4 import BeautifulSoup\n",
        "import requests\n",
        "import chai_py\n",
        "chai_py.setup_notebook()"
      ]
    },
    {
      "cell_type": "code",
      "execution_count": null,
      "metadata": {
        "colab": {
          "base_uri": "https://localhost:8080/"
        },
        "id": "zGmmk1nA6CEd",
        "outputId": "b8ace95c-5e01-4a17-e299-0d057c23b9b3"
      },
      "outputs": [
        {
          "name": "stdout",
          "output_type": "stream",
          "text": [
            "Saving cell to bot/bot.py and reloading class covidBot.\n"
          ]
        }
      ],
      "source": [
        "%%write_and_run bot bot.py covidBot\n",
        "\n",
        "from chai_py import ChaiBot, Update, TRoom\n",
        "import datetime\n",
        "\n",
        "\n",
        "\n",
        "\n",
        "# from bs4 import BeautifulSoup\n",
        "# import requests\n",
        "\n",
        "class covidBot(ChaiBot):\n",
        "\n",
        "    def setup(self):\n",
        "        self.logger.info(\"Setting up...\")\n",
        "        self.logger.info(\"This bot will give you country wise-detail of the current status of COVID\")\n",
        "        name = input('Enter the name of the country you want to know about. ') \n",
        "        self.Name = name\n",
        "\n",
        "\n",
        "    async def on_message(self, update: Update) -> str:\n",
        "        country = self.Name\n",
        "        Total_count = [1,2,3] #index 0 for total cases, 1 for total deaths and 2 for total recovered\n",
        "\n",
        "        # html_text = requests.get(f\"https://www.worldometers.info/coronavirus/country/{country}/\").text\n",
        "        # soup = BeautifulSoup(html_text, 'lxml')\n",
        "\n",
        "        # total_count = soup.find_all('div', class_ = 'maincounter-number')\n",
        "        # for total in total_count:\n",
        "        #     Total_count.append((total.text.replace(\"\\n\",'').replace(\" \",'')))\n",
        "        \n",
        "        message_text = update.latest_message.text\n",
        "        \n",
        "        if message_text == 'deaths' or message_text == 'Deaths':\n",
        "            return f\"Deaths : {Total_count[1]}\"\n",
        "\n",
        "        elif message_text == 'total cases' or message_text == 'Total Cases' or message_text == 'cases':\n",
        "            return f\"Deaths : {Total_count[0]}\"\n",
        "\n",
        "        elif message_text == 'Recovered' or message_text == 'recovered':\n",
        "            return f\"Deaths : {Total_count[2]}\" \n",
        "\n",
        "        else:\n",
        "            return \"Unrecognised input, try again!\""
      ]
    },
    {
      "cell_type": "code",
      "execution_count": null,
      "metadata": {
        "id": "5qca1XBlEm8d"
      },
      "outputs": [],
      "source": []
    },
    {
      "cell_type": "code",
      "execution_count": null,
      "metadata": {
        "colab": {
          "background_save": true,
          "base_uri": "https://localhost:8080/",
          "height": 971
        },
        "id": "BvvQGWyQ6K1a",
        "outputId": "9e9db9ed-3a1a-41ef-8876-6352236687ac"
      },
      "outputs": [
        {
          "name": "stdout",
          "output_type": "stream",
          "text": [
            "Running verification checks on metadata.\n",
            "Prepared metadata:\n",
            "{'color': 'f1a2b3',\n",
            " 'description': 'Thank you for creating me ❤️',\n",
            " 'developerUid': 'srJxIisLhXNEGm1o5l5XuW1ZHnB2',\n",
            " 'imageUrl': 'https://cutt.ly/lx0gnM9',\n",
            " 'inputClass': 'covidBot',\n",
            " 'inputFile': 'bot',\n",
            " 'memory': 256,\n",
            " 'name': 'Covid Bot! 🎉 🤖'}\n",
            "Preparing temporary directory...\n",
            "Created zip package at /content/bot/_package.zip.\n",
            "Detected previous deployment from this location. Use the same bot UID as before?\n",
            " [y] (default) Yes. Update the bot (_bot_c0b793ba-dbc4-4454-94fb-dd24b63592e3).\n",
            " [n] No. Deploy as a new bot.\n",
            "Using previous bot UID: _bot_c0b793ba-dbc4-4454-94fb-dd24b63592e3\n",
            "Successfully uploaded bot/_package.zip.\n",
            "Found previous failed deployment: Version 5\n",
            "✔ signed_url_created\n",
            "✔ processing_upload\n",
            "✔ deploying\n",
            "⠧This deployment is taking an unexpectedly long time. Waiting for next step: initialized\n",
            "⠴ Waiting for next step: initializedThis deployment is taking an unexpectedly long time.\n",
            "✖ failed_deployment\n",
            "Full logs can be checked with the display_logs and get_logs functions.\n",
            "Scan the QR code with your phone to start a chat in the app!\n",
            "Or check it out at chai://chai.ml/_bot_c0b793ba-dbc4-4454-94fb-dd24b63592e3\n"
          ]
        },
        {
          "data": {
            "image/svg+xml": "<svg class=\"segno\" height=\"410\" width=\"410\"><g transform=\"scale(10)\"><path d=\"M0 0h41v41h-41z\" fill=\"#fff\"/><path class=\"qrline\" d=\"M4 4.5h7m1 0h1m1 0h2m4 0h2m1 0h1m1 0h1m1 0h1m2 0h7m-33 1h1m5 0h1m1 0h5m1 0h1m1 0h2m4 0h3m1 0h1m5 0h1m-33 1h1m1 0h3m1 0h1m3 0h2m1 0h2m3 0h1m3 0h1m1 0h1m1 0h1m1 0h3m1 0h1m-33 1h1m1 0h3m1 0h1m1 0h2m1 0h2m4 0h2m1 0h1m1 0h3m1 0h1m1 0h3m1 0h1m-33 1h1m1 0h3m1 0h1m2 0h2m1 0h1m3 0h6m2 0h1m1 0h1m1 0h3m1 0h1m-33 1h1m5 0h1m4 0h1m1 0h4m2 0h2m3 0h1m1 0h1m5 0h1m-33 1h7m1 0h1m1 0h1m1 0h1m1 0h1m1 0h1m1 0h1m1 0h1m1 0h1m1 0h1m1 0h7m-25 1h1m1 0h3m1 0h4m5 0h2m-25 1h1m1 0h2m1 0h3m1 0h2m3 0h6m1 0h3m2 0h1m2 0h1m1 0h2m-33 1h2m1 0h1m1 0h1m2 0h2m1 0h1m1 0h1m4 0h4m1 0h1m2 0h1m5 0h1m-33 1h1m2 0h6m2 0h1m1 0h1m2 0h1m5 0h2m1 0h1m1 0h3m2 0h1m-32 1h2m1 0h2m1 0h1m1 0h2m1 0h1m3 0h1m3 0h1m1 0h3m2 0h1m1 0h1m1 0h1m-32 1h1m1 0h1m1 0h1m1 0h1m1 0h1m1 0h2m2 0h4m1 0h2m2 0h2m2 0h2m2 0h1m-32 1h6m1 0h1m6 0h1m2 0h1m1 0h4m2 0h1m4 0h1m-30 1h1m1 0h1m2 0h2m1 0h1m4 0h1m2 0h1m1 0h3m3 0h1m2 0h2m-30 1h2m2 0h1m2 0h4m4 0h1m2 0h2m1 0h6m3 0h3m-31 1h1m3 0h1m2 0h3m1 0h2m7 0h2m1 0h2m1 0h1m1 0h1m1 0h1m-31 1h1m2 0h1m2 0h3m1 0h2m1 0h1m2 0h3m2 0h1m1 0h2m1 0h1m3 0h1m-33 1h2m3 0h4m2 0h2m1 0h2m10 0h1m1 0h3m-30 1h1m1 0h3m2 0h3m1 0h1m2 0h1m1 0h2m4 0h1m1 0h4m2 0h1m-31 1h1m1 0h1m2 0h4m1 0h1m1 0h1m2 0h2m1 0h5m1 0h1m1 0h1m2 0h2m-32 1h5m2 0h1m2 0h4m1 0h2m2 0h1m2 0h2m1 0h3m1 0h2m1 0h1m-31 1h7m3 0h4m2 0h1m1 0h4m3 0h1m1 0h1m1 0h2m-32 1h1m1 0h1m1 0h1m1 0h1m1 0h1m1 0h2m1 0h2m2 0h1m1 0h1m2 0h3m1 0h2m2 0h1m-32 1h1m2 0h1m1 0h2m1 0h1m1 0h1m2 0h1m3 0h2m1 0h1m1 0h1m1 0h6m2 0h1m-25 1h3m2 0h7m3 0h2m3 0h3m-31 1h7m1 0h1m2 0h2m4 0h1m1 0h2m2 0h2m1 0h1m1 0h2m-30 1h1m5 0h1m1 0h2m2 0h3m4 0h3m1 0h2m3 0h1m1 0h1m1 0h1m-33 1h1m1 0h3m1 0h1m2 0h2m2 0h1m3 0h1m1 0h1m1 0h8m1 0h1m1 0h1m-33 1h1m1 0h3m1 0h1m1 0h1m1 0h4m2 0h2m4 0h2m5 0h1m2 0h1m-33 1h1m1 0h3m1 0h1m1 0h1m1 0h1m3 0h2m2 0h1m5 0h1m1 0h2m2 0h1m-31 1h1m5 0h1m2 0h3m5 0h4m2 0h4m1 0h2m2 0h1m-33 1h7m1 0h1m2 0h1m1 0h2m2 0h1m1 0h1m1 0h1m1 0h1m1 0h1m3 0h2\" stroke=\"#000\"/></g></svg>",
            "text/plain": [
              "<IPython.core.display.SVG object>"
            ]
          },
          "metadata": {},
          "output_type": "display_data"
        },
        {
          "name": "stdout",
          "output_type": "stream",
          "text": [
            "\n",
            "Enter one of the following keys to perform additional actions (or [Enter] to exit):\n",
            " [s] Save this QR code to an image file.\n"
          ]
        }
      ],
      "source": [
        "from chai_py import Metadata, package, upload_and_deploy, wait_for_deployment\n",
        "from chai_py import share_bot\n",
        "from chai_py import set_auth\n",
        "\n",
        "\n",
        "DEVELOPER_UID = \"srJxIisLhXNEGm1o5l5XuW1ZHnB2\"\n",
        "DEVELOPER_KEY = \"UX8FUvsnXQWdowghd7KcfIjfCSnFeD-cPDY8csEblWg5w0OSa86kp9VI3sYXCFrFfzWVJ7wCkIFjJp_F8MR9GQ\"\n",
        "\n",
        "\n",
        "if DEVELOPER_KEY is None or DEVELOPER_UID is None:\n",
        "    raise RuntimeError(\"Please fetch your UID and KEY from the bottom of the Chai Developer Platform. https://chai.ml/dev\")\n",
        "\n",
        "set_auth(DEVELOPER_UID, DEVELOPER_KEY)\n",
        "BOT_IMAGE_URL = \"https://cutt.ly/lx0gnM9\"\n",
        "\n",
        "package(\n",
        "    Metadata(\n",
        "        name=\"Covid Bot! 🎉 🤖\",\n",
        "        image_url=BOT_IMAGE_URL,\n",
        "        color=\"f1a2b3\",\n",
        "        description=\"Thank you for creating me ❤️\",\n",
        "        input_class = covidBot,\n",
        "     ),\n",
        "     requirements = []\n",
        "  \n",
        "\n",
        ")\n",
        "\n",
        "\n",
        "bot_uid = upload_and_deploy(\"bot/_package.zip\")\n",
        "\n",
        "wait_for_deployment(bot_uid)\n",
        "\n",
        "\n",
        "share_bot(bot_uid)\n"
      ]
    },
    {
      "cell_type": "code",
      "execution_count": null,
      "metadata": {
        "id": "GvDFwTgVSeJk"
      },
      "outputs": [],
      "source": []
    }
  ],
  "metadata": {
    "colab": {
      "provenance": []
    },
    "kernelspec": {
      "display_name": "Python 3",
      "name": "python3"
    },
    "language_info": {
      "name": "python"
    }
  },
  "nbformat": 4,
  "nbformat_minor": 0
}